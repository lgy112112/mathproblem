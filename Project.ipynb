{
 "cells": [
  {
   "cell_type": "markdown",
   "metadata": {},
   "source": [
    "\n",
    "\n",
    "## Final Report Project: \"Arc Diagrams\"\n",
    "\n",
    "<div class=\"alert alert-block alert-danger\">\n",
    "\n",
    "**IMPORTANT**: \n",
    "Start by filling in your 9 digit *student ID number* in the orange box below. **DO IT NOW**. \n",
    "    \n",
    "\n",
    "\n",
    "Please check very carefully that your *student ID number* is accurately typed everywhere. Otherwise your marks might go to the wrong person.\n",
    "\n",
    "Use the available cells to introduce the code. You can add additional cells if needed. Explain your code as much as possible with `# comments` </div>"
   ]
  },
  {
   "cell_type": "markdown",
   "metadata": {},
   "source": [
    "<div class=\"alert alert-block alert-warning\">\n",
    "\n",
    "### ID: please replace the text after the colon by your 9 digit student ID number\n",
    "\n",
    "<br /></div>"
   ]
  },
  {
   "cell_type": "markdown",
   "metadata": {
    "jp-MarkdownHeadingCollapsed": true
   },
   "source": [
    "\n",
    "\n",
    "### Instructions:\n",
    "\n",
    "You must write your answers in this Jupyter Notebook, using either Markdown or Python code as appropriate. \n",
    "\n",
    "Your code must be **well documented**. As a rough guide, you should aim to include one line of comments for each line of code (but you may include more or fewer comments depending on the situation).\n",
    "\n",
    "The total number of marks available is 100. Attempt all parts of all questions.\n",
    "\n",
    "For this project, you are expected to write your code almost entirely 'from scratch', although you are allowed to use some specific packages like `numpy`, `matplotlib.pyplot`, etc. There will be more information about the admissible module imports below.\n",
    "\n",
    "\n",
    "\n",
    "\n",
    "\n",
    "### Marking of projects:\n",
    "\n",
    "The first thing we will do to evaluate your submission is to clear all outputs and run the entire notebook from the beginning to the end. It is your responsibility to ensure that the code produces **no errors**. You will automatically receive **zero marks for any exercises where the code cell raises an error**. If you run into an error and do not know how to fix it, comment out the critical line of code and any subsequent ones that depend on it. Add a remark indicating that you are aware of the problem and potential reasons.\n",
    "\n",
    "If you do not know how to implement a certain operation in Python, add a comment and explain in plain English (and in sufficient detail) what you would like to do. You may receive partial credit for expedient ideas formulated in this way.\n",
    "\n",
    "As explained in more detail below, roughly **50 % of the marks** for each coding exercise will be awarded for **comments and documentation**. \n",
    "\n",
    "There will also be several exercises asking you to analyze, explain and interpret results. When writing up projects, good writing style is even more important than in written exams. \n",
    "\n",
    "> To get full marks in any assessed work (tests or exams) you must normally not only give the right answers but also explain your working clearly and give reasons for your answers by writing legible and grammatically correct English sentences. Mathematics is about logic and reasoned arguments and the only way to present a reasoned and logical argument is by writing about it clearly. Your writing may include numbers and other mathematical symbols, but they are not enough on their own. You should copy the writing style used in good mathematical textbooks, such as those recommended for your modules. **You can expect to lose marks for poor writing (incorrect grammar and spelling) as well as for poor mathematics (incorrect or unclear logic).**\n",
    "\n",
    "\n",
    "<div class=\"alert alert-block alert-danger\">\n",
    "    \n",
    "### Plagiarism warning:\n",
    "\n",
    "Your work will be tested for plagiarism. In particular, while only academic staff will make a judgement on whether plagiarism has occurred in a piece of work, we will use the plagiarism detection software \"Turnitin\" to help us assess how much of the submitted work matches other sources. You will have the opportunity to upload your work, see the Turnitin result, and edit your work once accordingly before finalising your submission.\n",
    "\n",
    "\n",
    "However, you must use your own words as far as possible (within reason, e.g. you would not be expected to change the wording of a well-known theorem), and you **must** [reference] any sources that you use. You cannot communicate with other students on any part of the project. You should also note that some of the questions are personalised in the sense that you will need to import and manipulate data that will be unique to you (i.e. no other student will have the same data).\n",
    "\n",
    "</div>"
   ]
  },
  {
   "cell_type": "markdown",
   "metadata": {},
   "source": [
    "---\n",
    "### Introduction to the project\n",
    "\n",
    "In this project you will investigate properties of _arc diagrams_, particularly so-called _crossings_ and _nestings_. \n",
    "\n",
    "#### Arc diagrams\n",
    "\n",
    "Assume you have an even number of points on a line, and denote the number of points by $2n$ with $n\\in\\mathbb N_0$. As there is an even number of points, one can connect these points in pairs; this is called a **matching**. We will label the points by $0,1,\\ldots,2n-1$ from left to right."
   ]
  },
  {
   "attachments": {
    "image.png": {
     "image/png": "[encoded data removed]"
    }
   },
   "cell_type": "markdown",
   "metadata": {},
   "source": [
    "A nice way of visualising such a matching is via an **arc diagram**, where any matched points are connected by an arc, as in the following image.\n",
    "\n",
    "![image.png](attachment:image.png)\n",
    "\n",
    "In this example we have eight points giving rise to four arcs. We will draw all these arcs above the line on which the points are situated."
   ]
  },
  {
   "cell_type": "markdown",
   "metadata": {},
   "source": [
    "Parts of this project will involve counting all the different possibilities of drawing arc diagrams with $n$ arcs, so let's do some easy counting arguments to get you started:\n",
    "\n",
    "If you have $2n$ points then pick the left-most point. The arc starting at this point can be connected to any of the remaining $2n-1$ points. Once you have done this, there are $2(n-1)$ points left to connect. Repeating this process, you can see that the left-most of these points can be connected to any of $2(n-1)-1$ points, and so forth. In other words, the total number of arc diagrams with $n$ arcs is \n",
    "$$(2n-1)\\cdot(2n-3)\\cdot\\ldots3\\cdot1\\;,$$ which is usually written as $(2n-1)!!$ using the [double factorial](https://en.wikipedia.org/wiki/Double_factorial).\n",
    "\n",
    "If you like, you can turn the above argument into a proof by mathematical induction: There is precisely one way of connecting zero points (base case $n=0$), and if there are $(2n-1)!!$ arc diagrams on $2n$ points (inductive assumption), then we can add another arc by adding a point to the left and inserting another point in any of $2n+1$ places, giving rise to $(2n+1)\\cdot(2n-1)!!=(2n+1)!!$ arc diagrams on $2(n+1)$ points (inductive step)."
   ]
  },
  {
   "cell_type": "markdown",
   "metadata": {},
   "source": [
    "#### Some notation\n",
    "\n",
    "It will be convenient to denote an arc starting at position $i$ and ending at position $j$ (with $j>i$) by the ordered pair $(i,j)$.\n",
    "\n",
    "In the above example, we have a set of four arcs $\\{(0,6),(1,3),(2,5),(4,7)\\}$."
   ]
  },
  {
   "cell_type": "markdown",
   "metadata": {
    "ExecuteTime": {
     "end_time": "2024-01-25T07:36:45.249730Z",
     "start_time": "2024-01-25T07:36:45.237403Z"
    }
   },
   "source": [
    "#### Crossings\n",
    "\n",
    "It is easy to see that arcs can cross each other. Two arcs $(i,j)$ and $(k,l)$ are said to be **crossing** if and only if $$i<k<j<l\\quad\\text{or}\\quad k<i<l<j\\;.$$\n",
    "\n",
    "In the above example, there are three crossings. The two arcs $(1,3)$ and $(2,5)$ cross, as do the arcs $(2,5)$ and $(4,7)$ and the arcs $(0,6)$ and $4,7)$.\n"
   ]
  },
  {
   "cell_type": "markdown",
   "metadata": {
    "ExecuteTime": {
     "end_time": "2024-01-25T07:36:45.249730Z",
     "start_time": "2024-01-25T07:36:45.237403Z"
    }
   },
   "source": [
    "#### Nestings\n",
    "\n",
    "It is also clear that an arc can be entirely inside another arc, which we call a nesting. Two arcs $(i,j)$ and $(k,l)$ are **nested** if and only if $$i<k<l<j\\quad\\text{or}\\quad k<i<j<l\\;.$$\n",
    "\n",
    "In the above example, there are two nestings. The two arcs $(0,6)$ and $(1,3)$ are nested, as are the arcs $(0,6)$ and $(2,5)$.\n"
   ]
  },
  {
   "attachments": {
    "image-4.png": {
     "image/png": "[encoded data removed]"
    },
    "image-5.png": {
     "image/png": "[encoded data removed]"
    },
    "image-6.png": {
     "image/png": "[encoded data removed]"
    }
   },
   "cell_type": "markdown",
   "metadata": {
    "ExecuteTime": {
     "end_time": "2024-01-25T07:36:45.249730Z",
     "start_time": "2024-01-25T07:36:45.237403Z"
    }
   },
   "source": [
    "#### An example\n",
    "\n",
    "Consider $n=2$. By the above counting argument, we have three possible matchings. These are\n",
    "\n",
    "\n",
    "| ![image-4.png](attachment:image-4.png) | ![image-5.png](attachment:image-5.png) | ![image-6.png](attachment:image-6.png) |\n",
    "| :---: | :---: | :---: |\n",
    "|0 nestings, 0 crossings | 1 nesting, 0 crossings | 0 nestings, 1 crossing |\n",
    "\n",
    "We can see that the arcs $(0,3)$ and $(1,2)$ are nested, whereas the arcs $(0,2)$ and $(1,3)$ are crossed."
   ]
  },
  {
   "cell_type": "markdown",
   "metadata": {},
   "source": [
    "---\n",
    "### Plotting arc diagrams\n",
    "\n",
    "The following code provides you with an easy way to draw arc diagrams. To store an arc diagram, we adapt the above mathematical notation and use a list of ordered pairs of integers as our data structure. For every arc $(i,j)$, we then draw a curved line connecting the two points with coordinates $(i,0)$ and $(j,0)$ in the $xy$-plane."
   ]
  },
  {
   "cell_type": "code",
   "execution_count": 1,
   "metadata": {
    "ExecuteTime": {
     "end_time": "2024-02-18T14:24:47.789523Z",
     "start_time": "2024-02-18T14:24:47.161440Z"
    }
   },
   "outputs": [
    {
     "data": {
      "image/png": "[encoded data removed]",
      "text/plain": [
       "<Figure size 450x200 with 1 Axes>"
      ]
     },
     "metadata": {},
     "output_type": "display_data"
    }
   ],
   "source": [
    "import matplotlib.pyplot as plt\n",
    "import matplotlib.patches as patches\n",
    "\n",
    "def draw_arc_diagram(arcs,title=True):\n",
    "    \"\"\"\n",
    "    Draw an arc diagram specified by a list of ordered pairs of matching points.\n",
    "\n",
    "    Parameters\n",
    "    ----------\n",
    "    - arcs : list of tuples (i, j)\n",
    "        the list/set of matching pairs of points, expected in canonical order (i < j)\n",
    "        and such that every integer 0, 1, ..., 2*len(arcs) - 1 occurs\n",
    "        exactly once\n",
    "    - title : bool\n",
    "        whether or not the set of arcs should be displayed as a text, too\n",
    "\n",
    "    Returns\n",
    "    -------\n",
    "    - None\n",
    "    \"\"\"\n",
    "    plt.figure(figsize=(4.5,2)) # pick appropriate figure size\n",
    "    plt.plot([0 for _ in range(2*len(arcs))],\"o\") # draw 2n points for n arcs\n",
    "    for arc in arcs:\n",
    "        plt.gca().add_patch(patches.FancyArrowPatch((arc[0],0),(arc[1],0),connectionstyle=\"angle3,angleA=55,angleB=-55\")) # draw a connecting line from arc[0] to arc[1]\n",
    "    plt.gca().axis(\"off\") # remove the axis\n",
    "    if title: plt.title(arcs,y=-0.2) # display the argument below the image\n",
    "    plt.show()\n",
    "    \n",
    "draw_arc_diagram([(0,6),(1,3),(2,5),(4,7)])"
   ]
  },
  {
   "cell_type": "markdown",
   "metadata": {},
   "source": [
    "Any mistake you make in setting up a diagram will show up in an obvious way when drawing the diagram with this function, as in the code box below. We encourage you to use this function frequently when testing your code for errors, it will be quite helpful."
   ]
  },
  {
   "cell_type": "code",
   "execution_count": 2,
   "metadata": {
    "ExecuteTime": {
     "end_time": "2024-02-18T14:24:47.896298Z",
     "start_time": "2024-02-18T14:24:47.791533Z"
    }
   },
   "outputs": [
    {
     "data": {
      "image/png": "[encoded data removed]",
      "text/plain": [
       "<Figure size 450x200 with 1 Axes>"
      ]
     },
     "metadata": {},
     "output_type": "display_data"
    },
    {
     "data": {
      "image/png": "[encoded data removed]",
      "text/plain": [
       "<Figure size 450x200 with 1 Axes>"
      ]
     },
     "metadata": {},
     "output_type": "display_data"
    }
   ],
   "source": [
    "draw_arc_diagram([(0,5),(1,3),(2,5),(4,7)]) # duplicate point\n",
    "draw_arc_diagram([(0,6),(3,1),(2,5),(4,7)]) # wrong order"
   ]
  },
  {
   "cell_type": "markdown",
   "metadata": {},
   "source": [
    "---\n",
    "### The structure of the project\n",
    "\n",
    "This project consists of **3 parts**. Each part consists of several exercises, which will ask you to analyze code, write and run your own code, and/or explain and interpret your results. Recall that all code needs to be properly documented with `# comments`, and the explanations in these comments will be assessed. Typically, about 50 % of the marks will be awarded for adequate documentation. \n",
    "\n",
    "* The **first part** (worth 45 marks) asks you to explain given Python code for arc diagrams, fix errors, and perform (theoretical and numerical) algorithm analysis.\n",
    "\n",
    "* The **second part** (worth 30 marks) asks you to write code yourself to count certain types of arc diagrams.\n",
    "\n",
    "* The **third part** (worth 25 marks) asks you to consider the \"rewiring\" of arc diagrams subject to certain constraints.\n"
   ]
  },
  {
   "cell_type": "markdown",
   "metadata": {},
   "source": [
    "The following code box imports all necessary modules. Run it now to set up your environment (and remember to re-run it whenever the kernel is restarted).\n",
    "\n",
    "**You may not import any other modules, except for the `project` module, which will be introduced in Part 3.**"
   ]
  },
  {
   "cell_type": "code",
   "execution_count": 3,
   "metadata": {
    "ExecuteTime": {
     "end_time": "2024-02-18T14:24:49.205204Z",
     "start_time": "2024-02-18T14:24:47.898309Z"
    }
   },
   "outputs": [],
   "source": [
    "#DO NOT CHANGE THE CONTENT OF THIS CODE BOX\n",
    "import matplotlib.pyplot as plt\n",
    "import numpy as np\n",
    "import matplotlib.patches as patches\n",
    "from timeit import timeit\n",
    "import seaborn as sns\n",
    "from itertools import permutations"
   ]
  },
  {
   "cell_type": "markdown",
   "metadata": {
    "collapsed": true,
    "jupyter": {
     "outputs_hidden": true
    }
   },
   "source": [
    "# Part 1: Analysis of given code  [45 marks total]\n",
    "\n",
    "***\n",
    "\n",
    "<div class=\"alert alert-block alert-danger\">\n",
    "    \n",
    "Please remember to write plenty of `# comments` in the code cells. The mark scheme is provided with each question. 50% of the marks will go to assess the actual code, and 50% of the marks will go to assess the `# comments`. Remember also to **reference** any sources you used. If you used any code or coding ideas you found elsewhere, you must cite them in the `# comments`.\n",
    "</div>"
   ]
  },
  {
   "cell_type": "markdown",
   "metadata": {
    "jp-MarkdownHeadingCollapsed": true
   },
   "source": [
    "When we asked **ChatGPT 3.5** to \"write Python code to count the number of crossings and nestings of an arc diagram on 2n points labelled by 0 to 2n-1 on the line\" (we had to add the labelling instruction to get the indexing right), it produced the following answer.\n",
    "\n",
    "\n",
    "> Sure, an arc diagram represents pairwise relationships between points. Here's a Python code snippet using a simple approach to count the number of crossings and nestings in an arc diagram on 2n points:\n",
    "> \n",
    "> ```python\n",
    "> def count_crossings_and_nestings(arcs):\n",
    ">     n = len(arcs) // 2\n",
    ">     crossings = 0\n",
    ">     nestings = 0\n",
    "> \n",
    ">     for i in range(2 * n):\n",
    ">         for j in range(i + 1, 2 * n):\n",
    ">             if arcs[i][0] < arcs[j][0] < arcs[i][1] < arcs[j][1]:\n",
    ">                 crossings += 1\n",
    ">             elif arcs[i][0] > arcs[j][0] > arcs[i][1] > arcs[j][1]:\n",
    ">                 crossings += 1\n",
    ">             elif arcs[i][0] < arcs[j][0] < arcs[j][1] < arcs[i][1]:\n",
    ">                 nestings += 1\n",
    ">             elif arcs[i][0] > arcs[j][0] > arcs[i][1] > arcs[j][1]:\n",
    ">                 nestings += 1\n",
    "> \n",
    ">     return crossings, nestings\n",
    "> \n",
    "> # Example usage:\n",
    "> n = 4  # You can change this to the desired number of points (2n points)\n",
    "> arcs = [(0, 3), (1, 2), (4, 7), (5, 6), (8, 11), (9, 10), (12, 15), (13, 14)]\n",
    "> crossings, nestings = count_crossings_and_nestings(arcs)\n",
    "> \n",
    "> print(f\"Number of crossings: {crossings}\")\n",
    "> print(f\"Number of nestings: {nestings}\")\n",
    "> ```\n",
    "> <br>\n",
    "> \n",
    "> This code defines a function `count_crossings_and_nestings` that takes a list of arcs as input, where each arc is represented as a tuple (start, end). The function then iterates through all pairs of arcs and checks for crossings and nestings based on their start and end points. The example usage shows how to use the function with a sample set of arcs.\n",
    "> \n",
    "> You can modify the `arcs` variable with your specific arc diagram data for testing.\n",
    "> "
   ]
  },
  {
   "cell_type": "markdown",
   "metadata": {},
   "source": [
    "---\n",
    "**[1.1] [15 marks]** Analyze the ChatGPT output by answering the following 9 questions.\n",
    "\n",
    "**Data types**\n",
    "\n",
    "1. Which data types would be accepted by the function `count_crossings_and_nestings` for the argument `arcs`? Would a set work?"
   ]
  },
  {
   "cell_type": "markdown",
   "metadata": {},
   "source": [
    "*(Type your answer in this Markdown cell)*"
   ]
  },
  {
   "cell_type": "markdown",
   "metadata": {},
   "source": [
    "2. What does the function return? What data type is it?"
   ]
  },
  {
   "cell_type": "markdown",
   "metadata": {},
   "source": [
    "*(Type your answer in this Markdown cell)*"
   ]
  },
  {
   "cell_type": "markdown",
   "metadata": {},
   "source": [
    "**Test cases**\n",
    "\n",
    "3. Run the example suggested by ChatGPT. Is the function ``count_crossings_and_nestings`` working as expected?"
   ]
  },
  {
   "cell_type": "code",
   "execution_count": 4,
   "metadata": {
    "ExecuteTime": {
     "end_time": "2024-02-18T14:24:49.212373Z",
     "start_time": "2024-02-18T14:24:49.208216Z"
    }
   },
   "outputs": [],
   "source": [
    "# Type your code and comments here"
   ]
  },
  {
   "cell_type": "markdown",
   "metadata": {},
   "source": [
    "4. Try computing nestings and crossings with the smallest examples $\\{\\}$, $\\{(0,1)\\}$, $\\{(0,1),(2,3)\\}$, $\\{(0,3),(1,2)\\}$ and $\\{(0,2),(1,3)\\}$. Does the output work?"
   ]
  },
  {
   "cell_type": "code",
   "execution_count": 5,
   "metadata": {
    "ExecuteTime": {
     "end_time": "2024-02-18T14:24:49.219668Z",
     "start_time": "2024-02-18T14:24:49.214386Z"
    }
   },
   "outputs": [],
   "source": [
    "# Type your code and comments here"
   ]
  },
  {
   "cell_type": "markdown",
   "metadata": {},
   "source": [
    "5. For diagrams with three arcs, there are 15 possibilities. Find one for which the function `count_crossings_and_nestings` provides a wrong result. Print the result and draw the corresponding diagram."
   ]
  },
  {
   "cell_type": "code",
   "execution_count": 6,
   "metadata": {
    "ExecuteTime": {
     "end_time": "2024-02-18T14:24:49.224643Z",
     "start_time": "2024-02-18T14:24:49.220679Z"
    }
   },
   "outputs": [],
   "source": [
    "# Type your code and comments here"
   ]
  },
  {
   "cell_type": "markdown",
   "metadata": {},
   "source": [
    "**First problem**\n",
    "\n",
    "6. The first problem is related to the variable `n` and its value. Explain what goes wrong."
   ]
  },
  {
   "cell_type": "markdown",
   "metadata": {},
   "source": [
    "*(Type your answer in this Markdown cell)*"
   ]
  },
  {
   "cell_type": "markdown",
   "metadata": {},
   "source": [
    "7. Provide a better implementation of the function, avoiding the use of `n`. Use the same function name, i.e., ``count_crossings_and_nestings``."
   ]
  },
  {
   "cell_type": "code",
   "execution_count": 7,
   "metadata": {
    "ExecuteTime": {
     "end_time": "2024-02-18T14:24:49.231114Z",
     "start_time": "2024-02-18T14:24:49.226654Z"
    }
   },
   "outputs": [],
   "source": [
    "# Type your code and comments here"
   ]
  },
  {
   "cell_type": "markdown",
   "metadata": {},
   "source": [
    "**Second problem**\n",
    "\n",
    "8. Run your improved function on $\\{(1,4),(0,6),(3,5),(2,9),(7,8)\\}$. Is the output what you expect?"
   ]
  },
  {
   "cell_type": "code",
   "execution_count": 8,
   "metadata": {
    "ExecuteTime": {
     "end_time": "2024-02-18T14:24:49.238179Z",
     "start_time": "2024-02-18T14:24:49.234133Z"
    }
   },
   "outputs": [],
   "source": [
    "# Type your code and comments here"
   ]
  },
  {
   "cell_type": "markdown",
   "metadata": {},
   "source": [
    "9. Find the problem and fix it, writing a correct version of the function. Again, use the same function name, i.e., ``count_crossings_and_nestings``. Demonstrate that the new version works by testing it on the example from _Question 8_ above."
   ]
  },
  {
   "cell_type": "code",
   "execution_count": 9,
   "metadata": {
    "ExecuteTime": {
     "end_time": "2024-02-18T14:24:49.259373Z",
     "start_time": "2024-02-18T14:24:49.241190Z"
    }
   },
   "outputs": [],
   "source": [
    "# Type your code and comments here"
   ]
  },
  {
   "cell_type": "markdown",
   "metadata": {},
   "source": [
    "---\n",
    "**[1.2] [5 marks]** Now write a well-documented version of your function `count_crossings_and_nestings`. Add a document string and plenty of comments."
   ]
  },
  {
   "cell_type": "code",
   "execution_count": 10,
   "metadata": {
    "ExecuteTime": {
     "end_time": "2024-02-18T14:24:49.268101Z",
     "start_time": "2024-02-18T14:24:49.264396Z"
    }
   },
   "outputs": [],
   "source": [
    "# Type your code and comments here"
   ]
  },
  {
   "cell_type": "markdown",
   "metadata": {},
   "source": [
    "---\n",
    "**[1.3] [5 marks]** What can you say about the computational complexity of `count_crossings_and_nestings`? Discuss how run time and memory requirement grow as the number $n$ of arcs increases. Give reasons."
   ]
  },
  {
   "cell_type": "markdown",
   "metadata": {},
   "source": [
    "*(Type your answer in this Markdown cell)*"
   ]
  },
  {
   "cell_type": "markdown",
   "metadata": {},
   "source": [
    "---\n",
    "**[1.4] [5 marks]**  The `numpy` module contains functions to generate random permutations. Given a non-negative integer $n$, every permutation of $2n$ numbers can be turned into a matching by taking the first half of the permutation entries (i.e., the first $n$ numbers) and connecting each of them to the corresponding entry in the second half (i.e., the last $n$ numbers). Use this method to write a function `random_matching` that takes $n$ and returns a randomly selected matching of $2n$ numbers in the form of a list of $n$ tuples, where each tuple contains two integers. \n",
    "\n",
    "Note: Ensure that the tuples are returned such that the first integer is less than the second integer.\n",
    "\n",
    "To demonstrate that your code works, draw the arc diagrams for five randomly chosen matchings of $20$ numbers."
   ]
  },
  {
   "cell_type": "code",
   "execution_count": 11,
   "metadata": {
    "ExecuteTime": {
     "end_time": "2024-02-18T14:24:49.274454Z",
     "start_time": "2024-02-18T14:24:49.271114Z"
    }
   },
   "outputs": [],
   "source": [
    "# Type your code and comments here"
   ]
  },
  {
   "cell_type": "markdown",
   "metadata": {},
   "source": [
    "---\n",
    "**[1.5] [5 marks]**  The module`timeit` (imported above) allows you to compute the time a function call takes. Verify your answer about the time complexity from _Exercise [1.3]_ by computing the run time for randomly chosen arc diagrams of suitable sizes and producing an appropriate plot of the average run times against the lengths of the matchings.\n",
    "\n",
    "Interpret your results."
   ]
  },
  {
   "cell_type": "code",
   "execution_count": 12,
   "metadata": {
    "ExecuteTime": {
     "end_time": "2024-02-18T14:24:49.280730Z",
     "start_time": "2024-02-18T14:24:49.276463Z"
    }
   },
   "outputs": [],
   "source": [
    "# Type your code and comments here"
   ]
  },
  {
   "cell_type": "markdown",
   "metadata": {},
   "source": [
    "*(Type your interpretation in this Markdown cell)*"
   ]
  },
  {
   "cell_type": "markdown",
   "metadata": {},
   "source": [
    "---\n",
    "**[1.6] [5 marks]**  Now that you understand the code well, here is an alternative function written by some crazy Python programmer who loves to write one-line lambda functions.\n",
    "```python\n",
    "countcrossnest = lambda arcs: tuple(map(sum,zip(*([(False,False)]+[(i<k<j<l or k<i<l<j,i<k<l<j or k<i<j<l) for _,(i,j) in enumerate(arcs) for k,l in arcs[_+1:]]))))\n",
    "```\n",
    "Note: You should use this correctly working one-line function to verify your work from _Exercise [1.1]_. If there is a mismatch, go back!"
   ]
  },
  {
   "cell_type": "markdown",
   "metadata": {},
   "source": [
    "1. Explain what is computed in `[(i<k<j<l or k<i<l<j,i<k<l<j or k<i<j<l) for _,(i,j) in enumerate(arcs) for k,l in arcs[_+1:]]`."
   ]
  },
  {
   "cell_type": "markdown",
   "metadata": {},
   "source": [
    "*(Type your answer in this Markdown cell)*"
   ]
  },
  {
   "cell_type": "markdown",
   "metadata": {},
   "source": [
    "2. Explain why `tuple(map(sum,zip(* ... )))` returns the number of crossings and nestings."
   ]
  },
  {
   "cell_type": "markdown",
   "metadata": {},
   "source": [
    "*(Type your answer in this Markdown cell)*"
   ]
  },
  {
   "cell_type": "markdown",
   "metadata": {},
   "source": [
    "3. What is the purpose of writing `[(False,False)]+`? Could one not simply omit this?"
   ]
  },
  {
   "cell_type": "markdown",
   "metadata": {},
   "source": [
    "*(Type your answer in this Markdown cell)*"
   ]
  },
  {
   "cell_type": "markdown",
   "metadata": {},
   "source": [
    "---\n",
    "**[1.7] [5 marks]**  Compare the time complexity of `count_crossings_and_nestings` and `countcrossnest`, using appropriate testing parameters and a suitable visualization.\n"
   ]
  },
  {
   "cell_type": "code",
   "execution_count": 13,
   "metadata": {
    "ExecuteTime": {
     "end_time": "2024-02-18T14:24:49.287944Z",
     "start_time": "2024-02-18T14:24:49.283742Z"
    }
   },
   "outputs": [],
   "source": [
    "# Type your code and comments here"
   ]
  },
  {
   "cell_type": "markdown",
   "metadata": {},
   "source": [
    "*(Type your interpretation in this Markdown cell)*"
   ]
  },
  {
   "cell_type": "markdown",
   "metadata": {},
   "source": [
    "\n",
    "# Part 2: Count matchings with respect to crossings and nestings [30 marks total]\n",
    "*** ***\n",
    "\n",
    "<div class=\"alert alert-block alert-danger\">\n",
    "    \n",
    "Please remember to write plenty of `# comments` in the code cells. The mark scheme is provided with each question. 50% of the marks will go to assess the actual code, and 50% of the marks will go to assess the `# comments`. Remember also to **reference** any sources you used. If you used any code or coding ideas you found elsewhere, you must cite them in the `# comments`.\n",
    "</div>\n",
    "\n"
   ]
  },
  {
   "cell_type": "markdown",
   "metadata": {
    "jp-MarkdownHeadingCollapsed": true
   },
   "source": [
    "<div class=\"alert alert-block alert-info\">\n",
    "    \n",
    "To work on the following exercises, you will still need a (properly working) function `count_crossings_and_nestings` to count the crossings and nestings of a given matching. If you did not manage to write your own version in _Exercise [1.2]_ above, you can use the alternative from _Exercise [1.7]_ instead. In this case, uncomment the second line of the following code cell in order to define this function as `count_crossings_and_nestings`.\n",
    "</div>\n"
   ]
  },
  {
   "cell_type": "code",
   "execution_count": 14,
   "metadata": {
    "ExecuteTime": {
     "end_time": "2024-02-18T14:24:49.294058Z",
     "start_time": "2024-02-18T14:24:49.289952Z"
    }
   },
   "outputs": [],
   "source": [
    "# Uncomment the following line if you did not manage to obtain a properly working `count_crossings_and_nestings()` function in Part 1.\n",
    "#count_crossings_and_nestings = lambda arcs: tuple(map(sum,zip(*([(False,False)]+[(i<k<j<l or k<i<l<j,i<k<l<j or k<i<j<l) for _,(i,j) in enumerate(arcs) for k,l in arcs[_+1:]]))))"
   ]
  },
  {
   "cell_type": "markdown",
   "metadata": {},
   "source": [
    "---\n",
    "**[2.1] [10 marks]** The code in Part 1 counts the crossings and nestings for a given matching. We now want to use this to analyze the distribution of crossings and nestings for arc diagrams with $100$ arcs.\n",
    "\n",
    "Using your function `random_matching` from _Exercise [1.4]_, generate $10^4$ such arc diagrams and create histograms for the numbers of crossings and nestings, respectively. Display them in a single plot. Also generate a two-dimensional histogram for the joint distribution of crossings and nestings.\n",
    "\n",
    "What do you observe?"
   ]
  },
  {
   "cell_type": "code",
   "execution_count": 15,
   "metadata": {
    "ExecuteTime": {
     "end_time": "2024-02-18T14:24:49.303505Z",
     "start_time": "2024-02-18T14:24:49.298072Z"
    }
   },
   "outputs": [],
   "source": [
    "# Type your code and comments here"
   ]
  },
  {
   "cell_type": "markdown",
   "metadata": {},
   "source": [
    "*(Type your observations in this Markdown cell)*"
   ]
  },
  {
   "cell_type": "markdown",
   "metadata": {},
   "source": [
    "---\n",
    "**[2.2] [10 marks]** \n",
    "\n",
    "In order to determine the full histogram for all matchings of a given size, we need to generate every single possible matching in a unique way. This is where the inductive description from the introduction becomes useful, as it provides a way to do so recursively:\n",
    "We can generate all arc diagrams with $n$ arcs from all arc diagrams with $(n-1)$ arcs\n",
    "by adding one arc to each of them in precisely $2n-1$ ways. To this end, we take an arc diagram with $(n-1)$ arcs, insert one new point at the left end and one more point somewhere to the right of it ($2n - 1$ options), and then match the newly inserted points to obtain the additional arc. The only \"problem\" is that we need to relabel some points in doing so.\n",
    "\n",
    "Inserting a point to the left implies that the indices of the other points all have to be increased by one. Moreover, if we insert another point at some position $m$, then all the indices with values $m$ and larger again have to be increased by one.\n",
    "\n",
    "For example, if we start with an arc diagram with precisely one arc, $\\{(0,1)\\}$, then inserting a point to the left gives this one index zero and increases the other indices, leading to\n",
    "$\\{(1,2),(0,\\cdot)\\}$ with $\\cdot$ still to be inserted. We can now insert a second point at positions $m=1,2,3$. This implies that all indices with values $m$ and larger need to be increased. For $m=1$ this leads to $\\{(2,3),(0,1)\\}$, for $m=2$ we get $\\{(1,3),(0,2)\\}$, and finally for $m=3$ we find $\\{(1,2),(0,3)\\}$.   \n",
    "\n",
    "Using this approach, write a function `get_all_matchings` that takes as argument a non-negative integer $n$ and returns a list of all $(2n-1)!!$ matchings on $n$ arcs.\n",
    "\n",
    "You may do this recursively or iteratively.\n",
    "\n",
    "Test your function by verifying that `len(get_all_matchings(n))` is equal to $(2n-1)!!$ for $n=0,1,\\ldots,7$."
   ]
  },
  {
   "cell_type": "code",
   "execution_count": 16,
   "metadata": {
    "ExecuteTime": {
     "end_time": "2024-02-18T14:24:49.308963Z",
     "start_time": "2024-02-18T14:24:49.305517Z"
    }
   },
   "outputs": [],
   "source": [
    "# Type your code and comments here"
   ]
  },
  {
   "cell_type": "markdown",
   "metadata": {},
   "source": [
    "---\n",
    "**[2.3] [10 marks]** For $n=6$, compute the number $C_{kl}$ of arc diagrams with $k$ crossings and $l$ nestings for all possible values of $k$ and $l$. Store these counting numbers $C_{kl}$ in a numpy array of integer data type and appropriate shape, meaning that the number of rows and columns should be aligned with the maximum numbers of crossings and nestings, respectively.\n",
    "\n",
    "You should get a symmetric array. Print this array. Furthermore, also print an array showing the total numbers of crossings for every $k$ and, analogously, an array showing the total number of nestings for every $l$."
   ]
  },
  {
   "cell_type": "code",
   "execution_count": 17,
   "metadata": {
    "ExecuteTime": {
     "end_time": "2024-02-18T14:24:49.316746Z",
     "start_time": "2024-02-18T14:24:49.311985Z"
    }
   },
   "outputs": [],
   "source": [
    "# Type your code and comments here"
   ]
  },
  {
   "cell_type": "markdown",
   "metadata": {},
   "source": [
    "\n",
    "# Part 3: Rewiring of matchings [25 marks total]\n",
    "*** ***\n",
    "\n",
    "<div class=\"alert alert-block alert-danger\">\n",
    "    \n",
    "Please remember to write plenty of `# comments` in the code cells. The mark scheme is provided with each question. 50% of the marks will go to assess the actual code, and 50% of the marks will go to assess the `# comments`. Remember also to **reference** any sources you used. If you used any code or coding ideas you found elsewhere, you must cite them in the `# comments`.\n",
    "</div>\n"
   ]
  },
  {
   "attachments": {
    "image-5.png": {
     "image/png": "[encoded data removed]"
    },
    "image-6.png": {
     "image/png": "[encoded data removed]"
    }
   },
   "cell_type": "markdown",
   "metadata": {
    "ExecuteTime": {
     "end_time": "2024-01-25T07:36:45.249730Z",
     "start_time": "2024-01-25T07:36:45.237403Z"
    }
   },
   "source": [
    "There is a different way of looking at arc diagrams. Let us fix the start and end points of the arcs. We can then ask ourselves how many arc diagrams there are that have the same pattern of start and end points.\n",
    "\n",
    "For example, if $n=2$ and arcs start at $0,1$ and end at $2,3$, we find two arc diagrams which share this pattern.\n",
    "\n",
    "| ![image-5.png](attachment:image-5.png) | ![image-6.png](attachment:image-6.png) |\n",
    "| :---: | :---: |\n",
    "| 1 nesting, 0 crossings | 0 nestings, 1 crossing |\n"
   ]
  },
  {
   "cell_type": "markdown",
   "metadata": {
    "ExecuteTime": {
     "end_time": "2024-01-25T07:36:45.249730Z",
     "start_time": "2024-01-25T07:36:45.237403Z"
    }
   },
   "source": [
    "---\n",
    "**[3.1] [10 marks]** Write a function `find_equivalent_matchings` that takes a matching and returns all matchings with the same pattern (including the original one).\n",
    "\n",
    "Using this function, draw all matchings equivalent to $\\{(0,7),(1,4),(2,3),(5,6)\\}$.\n",
    "\n",
    "You might find it helpful to generate all permutations of a list using `itertools.permutation` (imported above) as in the following code template.\n",
    "```python\n",
    "perms=permutations(list_of_items)\n",
    "for p in perms:\n",
    "    ...\n",
    "    ...\n",
    "```"
   ]
  },
  {
   "cell_type": "code",
   "execution_count": 18,
   "metadata": {
    "ExecuteTime": {
     "end_time": "2024-02-18T14:24:49.323015Z",
     "start_time": "2024-02-18T14:24:49.319754Z"
    }
   },
   "outputs": [],
   "source": [
    "# Type your code and comments here"
   ]
  },
  {
   "cell_type": "markdown",
   "metadata": {},
   "source": [
    "---\n",
    "\n",
    "Along with this Jupyter Notebook, you have been provided with a Python file called **\"project.py\"**, which you should **save in the same directory as this Jupyter notebook**.\n",
    "This file contains a function `create_partial_matching`, which takes a student ID as an integer and creates a partial matching. (The output will look random, but will be unique to the provided student ID, i.e. no two students will have the same partial matching to work with.) This partial matching will have a few missing entries, indicated by an asterisk (as a string value). For example, a partial matching might be\n",
    "\n",
    "```[(0,5),(1,'*'),('*',3)]```.\n",
    "\n",
    "In this example, it is clear that the numbers $2$ and $4$ are missing, so one could try to fill the gaps as `[(0,5),(1,2),(4,3)]` or `[(0,5),(1,4),(2,3)]`. Only the latter choice is a valid matching, as $4>3$ violates the convention that the end of an arc has to be to the right of the start."
   ]
  },
  {
   "cell_type": "markdown",
   "metadata": {},
   "source": [
    "**[3.2] [5 marks]** Execute the following code cell to create your matching. You **must** replace the number \"123456789\" with your 9-digit student ID number. \n",
    "\n",
    "*Important note.* This question essentially gives you 5 free marks for typing your student ID correctly. If you do not do this correctly, you will score zero for this part, and if you instead use another student's ID, then your submission will be reviewed for plagiarism."
   ]
  },
  {
   "cell_type": "code",
   "execution_count": 19,
   "metadata": {
    "ExecuteTime": {
     "end_time": "2024-02-18T14:24:49.336278Z",
     "start_time": "2024-02-18T14:24:49.326027Z"
    }
   },
   "outputs": [],
   "source": [
    "from project import create_partial_matching\n",
    "\n",
    "# Replace \"123456789\" in the following line with your 9-digit student ID number\n",
    "my_partial_matching=create_partial_matching(123456789)\n",
    "# Replace \"123456789\" in the previous line with your 9-digit student ID number"
   ]
  },
  {
   "cell_type": "markdown",
   "metadata": {},
   "source": [
    "---\n",
    "**[3.3] [10 marks]** For your personal partial matching, print out the following information:\n",
    "\n",
    "- a list of the pairs with missing data;\n",
    "- a list of all missing numbers;\n",
    "- the *number* of ways the partial matching can be completed to a valid(!) matching (but *not* the completed matchings themselves).\n",
    "\n",
    "**Note: Do not print out anything else.**"
   ]
  },
  {
   "cell_type": "code",
   "execution_count": 20,
   "metadata": {
    "ExecuteTime": {
     "end_time": "2024-02-18T14:24:49.341698Z",
     "start_time": "2024-02-18T14:24:49.338288Z"
    }
   },
   "outputs": [],
   "source": [
    "# Type your code and comments here"
   ]
  }
 ],
 "metadata": {
  "kernelspec": {
   "display_name": "Python 3 (ipykernel)",
   "language": "python",
   "name": "python3"
  },
  "language_info": {
   "codemirror_mode": {
    "name": "ipython",
    "version": 3
   },
   "file_extension": ".py",
   "mimetype": "text/x-python",
   "name": "python",
   "nbconvert_exporter": "python",
   "pygments_lexer": "ipython3",
   "version": "3.11.7"
  }
 },
 "nbformat": 4,
 "nbformat_minor": 4
}
